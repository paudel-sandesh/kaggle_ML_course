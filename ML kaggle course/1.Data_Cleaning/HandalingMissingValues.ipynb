{
 "cells": [
  {
   "cell_type": "markdown",
   "metadata": {},
   "source": [
    "**This notebook is an exercise in the [Data Cleaning](https://www.kaggle.com/learn/data-cleaning) course.  You can reference the tutorial at [this link](https://www.kaggle.com/alexisbcook/handling-missing-values).**\n",
    "\n",
    "---\n"
   ]
  },
  {
   "cell_type": "markdown",
   "metadata": {},
   "source": [
    "In this exercise, you'll apply what you learned in the **Handling missing values** tutorial.\n",
    "\n",
    "# Setup\n",
    "\n",
    "The questions below will give you feedback on your work. Run the following cell to set up the feedback system."
   ]
  },
  {
   "cell_type": "code",
   "execution_count": 1,
   "metadata": {
    "execution": {
     "iopub.execute_input": "2021-10-07T04:52:22.189546Z",
     "iopub.status.busy": "2021-10-07T04:52:22.189053Z",
     "iopub.status.idle": "2021-10-07T04:52:27.133626Z",
     "shell.execute_reply": "2021-10-07T04:52:27.132762Z",
     "shell.execute_reply.started": "2021-10-07T04:52:22.189448Z"
    }
   },
   "outputs": [],
   "source": [
    "from learntools.core import binder\n",
    "binder.bind(globals())\n",
    "from learntools.data_cleaning.ex1 import *\n",
    "print(\"Setup Complete\")"
   ]
  },
  {
   "cell_type": "markdown",
   "metadata": {},
   "source": [
    "# 1) Take a first look at the data\n",
    "\n",
    "Run the next code cell to load in the libraries and dataset you'll use to complete the exercise."
   ]
  },
  {
   "cell_type": "code",
   "execution_count": 2,
   "metadata": {
    "execution": {
     "iopub.execute_input": "2021-10-07T04:52:30.951916Z",
     "iopub.status.busy": "2021-10-07T04:52:30.951598Z",
     "iopub.status.idle": "2021-10-07T04:52:32.637262Z",
     "shell.execute_reply": "2021-10-07T04:52:32.636314Z",
     "shell.execute_reply.started": "2021-10-07T04:52:30.951884Z"
    }
   },
   "outputs": [],
   "source": [
    "# modules we'll use\n",
    "import pandas as pd\n",
    "import numpy as np\n",
    "\n",
    "# read in all our data\n",
    "df = pd.read_csv(\"../input/building-permit-applications-data/Building_Permits.csv\")\n",
    "\n",
    "# set seed for reproducibility\n",
    "np.random.seed(0) "
   ]
  },
  {
   "cell_type": "markdown",
   "metadata": {},
   "source": [
    "Use the code cell below to print the first five rows of the `sf_permits` DataFrame."
   ]
  },
  {
   "cell_type": "code",
   "execution_count": 3,
   "metadata": {
    "execution": {
     "iopub.execute_input": "2021-10-07T04:52:37.131310Z",
     "iopub.status.busy": "2021-10-07T04:52:37.131004Z",
     "iopub.status.idle": "2021-10-07T04:52:37.168965Z",
     "shell.execute_reply": "2021-10-07T04:52:37.167982Z",
     "shell.execute_reply.started": "2021-10-07T04:52:37.131281Z"
    }
   },
   "outputs": [],
   "source": [
    "df.head()"
   ]
  },
  {
   "cell_type": "code",
   "execution_count": 4,
   "metadata": {
    "execution": {
     "iopub.execute_input": "2021-10-07T04:52:46.389740Z",
     "iopub.status.busy": "2021-10-07T04:52:46.389449Z",
     "iopub.status.idle": "2021-10-07T04:52:46.916281Z",
     "shell.execute_reply": "2021-10-07T04:52:46.915239Z",
     "shell.execute_reply.started": "2021-10-07T04:52:46.389712Z"
    }
   },
   "outputs": [],
   "source": [
    "df.info()"
   ]
  },
  {
   "cell_type": "code",
   "execution_count": 5,
   "metadata": {
    "execution": {
     "iopub.execute_input": "2021-10-07T04:53:38.314362Z",
     "iopub.status.busy": "2021-10-07T04:53:38.313514Z",
     "iopub.status.idle": "2021-10-07T04:53:38.477420Z",
     "shell.execute_reply": "2021-10-07T04:53:38.476533Z",
     "shell.execute_reply.started": "2021-10-07T04:53:38.314323Z"
    }
   },
   "outputs": [],
   "source": [
    "df.describe()"
   ]
  },
  {
   "cell_type": "code",
   "execution_count": 7,
   "metadata": {
    "execution": {
     "iopub.execute_input": "2021-10-07T04:54:17.344284Z",
     "iopub.status.busy": "2021-10-07T04:54:17.343486Z",
     "iopub.status.idle": "2021-10-07T04:54:17.350041Z",
     "shell.execute_reply": "2021-10-07T04:54:17.349141Z",
     "shell.execute_reply.started": "2021-10-07T04:54:17.344251Z"
    }
   },
   "outputs": [],
   "source": [
    "df.shape"
   ]
  },
  {
   "cell_type": "markdown",
   "metadata": {},
   "source": [
    "Does the dataset have any missing values?  Once you have an answer, run the code cell below to get credit for your work."
   ]
  },
  {
   "cell_type": "code",
   "execution_count": 12,
   "metadata": {
    "execution": {
     "iopub.execute_input": "2021-10-07T05:02:28.750279Z",
     "iopub.status.busy": "2021-10-07T05:02:28.749863Z",
     "iopub.status.idle": "2021-10-07T05:02:28.759106Z",
     "shell.execute_reply": "2021-10-07T05:02:28.758318Z",
     "shell.execute_reply.started": "2021-10-07T05:02:28.750235Z"
    }
   },
   "outputs": [],
   "source": [
    "# Check your answer (Run this code cell to receive credit!)\n",
    "q1.check()"
   ]
  },
  {
   "cell_type": "code",
   "execution_count": null,
   "metadata": {},
   "outputs": [],
   "source": [
    "# Line below will give you a hint\n",
    "#q1.hint()"
   ]
  },
  {
   "cell_type": "markdown",
   "metadata": {},
   "source": [
    "# 2) How many missing data points do we have?\n",
    "\n",
    "What percentage of the values in the dataset are missing?  Your answer should be a number between 0 and 100.  (If 1/4 of the values in the dataset are missing, the answer is 25.)"
   ]
  },
  {
   "cell_type": "code",
   "execution_count": 9,
   "metadata": {
    "execution": {
     "iopub.execute_input": "2021-10-07T04:57:51.773566Z",
     "iopub.status.busy": "2021-10-07T04:57:51.773000Z",
     "iopub.status.idle": "2021-10-07T04:57:52.290528Z",
     "shell.execute_reply": "2021-10-07T04:57:52.289555Z",
     "shell.execute_reply.started": "2021-10-07T04:57:51.773527Z"
    }
   },
   "outputs": [],
   "source": [
    "# TODO: Your code here!\n",
    "missing_data = df.isna().sum()\n",
    "\n",
    "missing_data"
   ]
  },
  {
   "cell_type": "code",
   "execution_count": 13,
   "metadata": {
    "execution": {
     "iopub.execute_input": "2021-10-07T05:06:03.005218Z",
     "iopub.status.busy": "2021-10-07T05:06:03.004425Z",
     "iopub.status.idle": "2021-10-07T05:06:03.011799Z",
     "shell.execute_reply": "2021-10-07T05:06:03.010883Z",
     "shell.execute_reply.started": "2021-10-07T05:06:03.005171Z"
    }
   },
   "outputs": [],
   "source": [
    "total_cells = np.product(df.shape)\n",
    "total_missing = missing_data.sum()\n",
    "\n",
    "# percent of data that is missing\n",
    "percent_missing = (total_missing/total_cells) * 100"
   ]
  },
  {
   "cell_type": "code",
   "execution_count": 14,
   "metadata": {
    "execution": {
     "iopub.execute_input": "2021-10-07T05:06:17.582001Z",
     "iopub.status.busy": "2021-10-07T05:06:17.581727Z",
     "iopub.status.idle": "2021-10-07T05:06:17.588872Z",
     "shell.execute_reply": "2021-10-07T05:06:17.587849Z",
     "shell.execute_reply.started": "2021-10-07T05:06:17.581974Z"
    }
   },
   "outputs": [],
   "source": [
    "percent_missing"
   ]
  },
  {
   "cell_type": "code",
   "execution_count": 15,
   "metadata": {
    "execution": {
     "iopub.execute_input": "2021-10-07T05:06:32.558805Z",
     "iopub.status.busy": "2021-10-07T05:06:32.558511Z",
     "iopub.status.idle": "2021-10-07T05:06:32.567494Z",
     "shell.execute_reply": "2021-10-07T05:06:32.566617Z",
     "shell.execute_reply.started": "2021-10-07T05:06:32.558771Z"
    }
   },
   "outputs": [],
   "source": [
    "q2.check()"
   ]
  },
  {
   "cell_type": "code",
   "execution_count": 10,
   "metadata": {
    "execution": {
     "iopub.execute_input": "2021-10-07T05:00:15.678584Z",
     "iopub.status.busy": "2021-10-07T05:00:15.678213Z",
     "iopub.status.idle": "2021-10-07T05:00:15.690963Z",
     "shell.execute_reply": "2021-10-07T05:00:15.689919Z",
     "shell.execute_reply.started": "2021-10-07T05:00:15.678554Z"
    }
   },
   "outputs": [],
   "source": [
    "# Lines below will give you a hint or solution code\n",
    "q2.hint()\n",
    "q2.solution()"
   ]
  },
  {
   "cell_type": "markdown",
   "metadata": {},
   "source": [
    "# 3) Figure out why the data is missing\n",
    "\n",
    "Look at the columns **\"Street Number Suffix\"** and **\"Zipcode\"** from the [San Francisco Building Permits dataset](https://www.kaggle.com/aparnashastry/building-permit-applications-data). Both of these contain missing values. \n",
    "- Which, if either, are missing because they don't exist? \n",
    "- Which, if either, are missing because they weren't recorded?  \n",
    "\n",
    "Once you have an answer, run the code cell below."
   ]
  },
  {
   "cell_type": "code",
   "execution_count": 22,
   "metadata": {
    "execution": {
     "iopub.execute_input": "2021-10-07T05:11:41.579171Z",
     "iopub.status.busy": "2021-10-07T05:11:41.578320Z",
     "iopub.status.idle": "2021-10-07T05:11:41.586067Z",
     "shell.execute_reply": "2021-10-07T05:11:41.585141Z",
     "shell.execute_reply.started": "2021-10-07T05:11:41.579132Z"
    }
   },
   "outputs": [],
   "source": [
    "df[\"Zipcode\"].values"
   ]
  },
  {
   "cell_type": "code",
   "execution_count": 24,
   "metadata": {
    "execution": {
     "iopub.execute_input": "2021-10-07T05:12:28.516621Z",
     "iopub.status.busy": "2021-10-07T05:12:28.516095Z",
     "iopub.status.idle": "2021-10-07T05:12:28.522167Z",
     "shell.execute_reply": "2021-10-07T05:12:28.521530Z",
     "shell.execute_reply.started": "2021-10-07T05:12:28.516589Z"
    }
   },
   "outputs": [],
   "source": [
    "df[\"Zipcode\"].isna().sum()"
   ]
  },
  {
   "cell_type": "code",
   "execution_count": null,
   "metadata": {},
   "outputs": [],
   "source": []
  },
  {
   "cell_type": "code",
   "execution_count": 20,
   "metadata": {
    "execution": {
     "iopub.execute_input": "2021-10-07T05:11:03.786105Z",
     "iopub.status.busy": "2021-10-07T05:11:03.785682Z",
     "iopub.status.idle": "2021-10-07T05:11:03.796767Z",
     "shell.execute_reply": "2021-10-07T05:11:03.795868Z",
     "shell.execute_reply.started": "2021-10-07T05:11:03.786070Z"
    }
   },
   "outputs": [],
   "source": [
    "df[\"Street Number Suffix\"]"
   ]
  },
  {
   "cell_type": "code",
   "execution_count": 25,
   "metadata": {
    "execution": {
     "iopub.execute_input": "2021-10-07T05:12:54.571706Z",
     "iopub.status.busy": "2021-10-07T05:12:54.571302Z",
     "iopub.status.idle": "2021-10-07T05:12:54.586936Z",
     "shell.execute_reply": "2021-10-07T05:12:54.586082Z",
     "shell.execute_reply.started": "2021-10-07T05:12:54.571680Z"
    }
   },
   "outputs": [],
   "source": [
    "df[\"Street Number Suffix\"].isna().sum()"
   ]
  },
  {
   "cell_type": "code",
   "execution_count": 26,
   "metadata": {
    "execution": {
     "iopub.execute_input": "2021-10-07T05:13:14.712514Z",
     "iopub.status.busy": "2021-10-07T05:13:14.712229Z",
     "iopub.status.idle": "2021-10-07T05:13:14.720550Z",
     "shell.execute_reply": "2021-10-07T05:13:14.719787Z",
     "shell.execute_reply.started": "2021-10-07T05:13:14.712482Z"
    }
   },
   "outputs": [],
   "source": [
    "# Check your answer (Run this code cell to receive credit!)\n",
    "q3.check()"
   ]
  },
  {
   "cell_type": "code",
   "execution_count": null,
   "metadata": {},
   "outputs": [],
   "source": [
    "# Line below will give you a hint\n",
    "#q3.hint()"
   ]
  },
  {
   "cell_type": "markdown",
   "metadata": {},
   "source": [
    "# 4) Drop missing values: rows\n",
    "\n",
    "If you removed all of the rows of `sf_permits` with missing values, how many rows are left?\n",
    "\n",
    "**Note**: Do not change the value of `sf_permits` when checking this.  "
   ]
  },
  {
   "cell_type": "code",
   "execution_count": 27,
   "metadata": {
    "execution": {
     "iopub.execute_input": "2021-10-07T05:15:34.095488Z",
     "iopub.status.busy": "2021-10-07T05:15:34.095184Z",
     "iopub.status.idle": "2021-10-07T05:15:34.610735Z",
     "shell.execute_reply": "2021-10-07T05:15:34.609837Z",
     "shell.execute_reply.started": "2021-10-07T05:15:34.095458Z"
    }
   },
   "outputs": [],
   "source": [
    "# TODO: Your code here!\n",
    "df2 = df.dropna()"
   ]
  },
  {
   "cell_type": "markdown",
   "metadata": {},
   "source": [
    "Once you have an answer, run the code cell below."
   ]
  },
  {
   "cell_type": "code",
   "execution_count": 28,
   "metadata": {
    "execution": {
     "iopub.execute_input": "2021-10-07T05:15:46.683352Z",
     "iopub.status.busy": "2021-10-07T05:15:46.682517Z",
     "iopub.status.idle": "2021-10-07T05:15:46.689768Z",
     "shell.execute_reply": "2021-10-07T05:15:46.688845Z",
     "shell.execute_reply.started": "2021-10-07T05:15:46.683311Z"
    }
   },
   "outputs": [],
   "source": [
    "df2.shape"
   ]
  },
  {
   "cell_type": "code",
   "execution_count": 29,
   "metadata": {
    "execution": {
     "iopub.execute_input": "2021-10-07T05:15:58.186284Z",
     "iopub.status.busy": "2021-10-07T05:15:58.186012Z",
     "iopub.status.idle": "2021-10-07T05:15:58.194529Z",
     "shell.execute_reply": "2021-10-07T05:15:58.193578Z",
     "shell.execute_reply.started": "2021-10-07T05:15:58.186257Z"
    }
   },
   "outputs": [],
   "source": [
    "# Check your answer (Run this code cell to receive credit!)\n",
    "q4.check()"
   ]
  },
  {
   "cell_type": "code",
   "execution_count": 30,
   "metadata": {
    "execution": {
     "iopub.execute_input": "2021-10-07T05:16:09.016397Z",
     "iopub.status.busy": "2021-10-07T05:16:09.016131Z",
     "iopub.status.idle": "2021-10-07T05:16:09.019834Z",
     "shell.execute_reply": "2021-10-07T05:16:09.018960Z",
     "shell.execute_reply.started": "2021-10-07T05:16:09.016370Z"
    }
   },
   "outputs": [],
   "source": [
    "# Line below will give you a hint\n",
    "#q4.hint()"
   ]
  },
  {
   "cell_type": "markdown",
   "metadata": {},
   "source": [
    "# 5) Drop missing values: columns\n",
    "\n",
    "Now try removing all the columns with empty values.  \n",
    "- Create a new DataFrame called `sf_permits_with_na_dropped` that has all of the columns with empty values removed.  \n",
    "- How many columns were removed from the original `sf_permits` DataFrame? Use this number to set the value of the `dropped_columns` variable below."
   ]
  },
  {
   "cell_type": "code",
   "execution_count": 41,
   "metadata": {
    "execution": {
     "iopub.execute_input": "2021-10-07T05:32:00.726803Z",
     "iopub.status.busy": "2021-10-07T05:32:00.726302Z",
     "iopub.status.idle": "2021-10-07T05:32:01.256617Z",
     "shell.execute_reply": "2021-10-07T05:32:01.255787Z",
     "shell.execute_reply.started": "2021-10-07T05:32:00.726753Z"
    }
   },
   "outputs": [],
   "source": [
    "# TODO: Your code here\n",
    "sf_permits_with_na_dropped = df.dropna(axis=1)\n",
    "\n",
    "# dropped_columns = \n",
    "\n",
    "# Check your answer\n",
    "# q5.check()"
   ]
  },
  {
   "cell_type": "code",
   "execution_count": 32,
   "metadata": {
    "execution": {
     "iopub.execute_input": "2021-10-07T05:20:22.397941Z",
     "iopub.status.busy": "2021-10-07T05:20:22.397592Z",
     "iopub.status.idle": "2021-10-07T05:20:22.404558Z",
     "shell.execute_reply": "2021-10-07T05:20:22.403270Z",
     "shell.execute_reply.started": "2021-10-07T05:20:22.397909Z"
    }
   },
   "outputs": [],
   "source": [
    "df_with_na_dropped.shape"
   ]
  },
  {
   "cell_type": "code",
   "execution_count": 33,
   "metadata": {
    "execution": {
     "iopub.execute_input": "2021-10-07T05:21:43.013523Z",
     "iopub.status.busy": "2021-10-07T05:21:43.013213Z",
     "iopub.status.idle": "2021-10-07T05:21:43.020670Z",
     "shell.execute_reply": "2021-10-07T05:21:43.019644Z",
     "shell.execute_reply.started": "2021-10-07T05:21:43.013495Z"
    }
   },
   "outputs": [],
   "source": [
    "df.columns"
   ]
  },
  {
   "cell_type": "code",
   "execution_count": 34,
   "metadata": {
    "execution": {
     "iopub.execute_input": "2021-10-07T05:22:41.106206Z",
     "iopub.status.busy": "2021-10-07T05:22:41.105922Z",
     "iopub.status.idle": "2021-10-07T05:22:41.111346Z",
     "shell.execute_reply": "2021-10-07T05:22:41.110472Z",
     "shell.execute_reply.started": "2021-10-07T05:22:41.106176Z"
    }
   },
   "outputs": [],
   "source": [
    "all_column = df.columns\n",
    "missing_column = df_with_na_dropped.columns"
   ]
  },
  {
   "cell_type": "code",
   "execution_count": 39,
   "metadata": {
    "execution": {
     "iopub.execute_input": "2021-10-07T05:30:33.871228Z",
     "iopub.status.busy": "2021-10-07T05:30:33.870919Z",
     "iopub.status.idle": "2021-10-07T05:30:33.876513Z",
     "shell.execute_reply": "2021-10-07T05:30:33.875716Z",
     "shell.execute_reply.started": "2021-10-07T05:30:33.871196Z"
    }
   },
   "outputs": [],
   "source": [
    "\n",
    "# calculate number of dropped columns\n",
    "cols_in_original_dataset = df.shape[1]\n",
    "cols_in_na_dropped = df_with_na_dropped.shape[1]\n",
    "dropped_columns = cols_in_original_dataset - cols_in_na_dropped"
   ]
  },
  {
   "cell_type": "code",
   "execution_count": 42,
   "metadata": {
    "execution": {
     "iopub.execute_input": "2021-10-07T05:32:07.869757Z",
     "iopub.status.busy": "2021-10-07T05:32:07.869483Z",
     "iopub.status.idle": "2021-10-07T05:32:07.877502Z",
     "shell.execute_reply": "2021-10-07T05:32:07.876940Z",
     "shell.execute_reply.started": "2021-10-07T05:32:07.869731Z"
    }
   },
   "outputs": [],
   "source": [
    "q5.check()"
   ]
  },
  {
   "cell_type": "code",
   "execution_count": null,
   "metadata": {},
   "outputs": [],
   "source": [
    "# Lines below will give you a hint or solution code\n",
    "#q5.hint()\n",
    "#q5.solution()"
   ]
  },
  {
   "cell_type": "markdown",
   "metadata": {},
   "source": [
    "# 6) Fill in missing values automatically\n",
    "\n",
    "Try replacing all the NaN's in the `sf_permits` data with the one that comes directly after it and then replacing any remaining NaN's with 0.  Set the result to a new DataFrame `sf_permits_with_na_imputed`."
   ]
  },
  {
   "cell_type": "code",
   "execution_count": 46,
   "metadata": {
    "execution": {
     "iopub.execute_input": "2021-10-07T05:37:19.863243Z",
     "iopub.status.busy": "2021-10-07T05:37:19.862539Z",
     "iopub.status.idle": "2021-10-07T05:37:21.492842Z",
     "shell.execute_reply": "2021-10-07T05:37:21.491967Z",
     "shell.execute_reply.started": "2021-10-07T05:37:19.863202Z"
    }
   },
   "outputs": [],
   "source": [
    "# TODO: Your code here\n",
    "sf_permits_with_na_imputed = df.fillna(method='bfill', axis=0).fillna(0)\n",
    "\n",
    "# Check your answer\n",
    "q6.check()"
   ]
  },
  {
   "cell_type": "code",
   "execution_count": 45,
   "metadata": {
    "execution": {
     "iopub.execute_input": "2021-10-07T05:36:51.091788Z",
     "iopub.status.busy": "2021-10-07T05:36:51.091524Z",
     "iopub.status.idle": "2021-10-07T05:36:51.095759Z",
     "shell.execute_reply": "2021-10-07T05:36:51.094854Z",
     "shell.execute_reply.started": "2021-10-07T05:36:51.091762Z"
    }
   },
   "outputs": [],
   "source": [
    "# Lines below will give you a hint or solution code\n",
    "#q6.hint()\n",
    "#q6.solution()"
   ]
  },
  {
   "cell_type": "markdown",
   "metadata": {},
   "source": [
    "# More practice\n",
    "\n",
    "If you're looking for more practice handling missing values:\n",
    "\n",
    "* Check out [this noteboook](https://www.kaggle.com/alexisbcook/missing-values) on handling missing values using scikit-learn's imputer. \n",
    "* Look back at the \"Zipcode\" column in the `sf_permits` dataset, which has some missing values. How would you go about figuring out what the actual zipcode of each address should be? (You might try using another dataset. You can search for datasets about San Fransisco on the [Datasets listing](https://www.kaggle.com/datasets).) \n",
    "\n",
    "# Keep going\n",
    "\n",
    "In the next lesson, learn how to [**apply scaling and normalization**](https://www.kaggle.com/alexisbcook/scaling-and-normalization) to transform your data."
   ]
  }
 ],
 "metadata": {
  "kernelspec": {
   "display_name": "Python 3",
   "language": "python",
   "name": "python3"
  },
  "language_info": {
   "codemirror_mode": {
    "name": "ipython",
    "version": 3
   },
   "file_extension": ".py",
   "mimetype": "text/x-python",
   "name": "python",
   "nbconvert_exporter": "python",
   "pygments_lexer": "ipython3",
   "version": "3.8.3"
  }
 },
 "nbformat": 4,
 "nbformat_minor": 4
}
